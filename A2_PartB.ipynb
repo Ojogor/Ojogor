{
  "nbformat": 4,
  "nbformat_minor": 0,
  "metadata": {
    "colab": {
      "provenance": [],
      "include_colab_link": true
    },
    "kernelspec": {
      "name": "python3",
      "display_name": "Python 3"
    },
    "language_info": {
      "name": "python"
    }
  },
  "cells": [
    {
      "cell_type": "markdown",
      "metadata": {
        "id": "view-in-github",
        "colab_type": "text"
      },
      "source": [
        "<a href=\"https://colab.research.google.com/github/Ojogor/Ojogor/blob/main/A2_PartB.ipynb\" target=\"_parent\"><img src=\"https://colab.research.google.com/assets/colab-badge.svg\" alt=\"Open In Colab\"/></a>"
      ]
    },
    {
      "cell_type": "markdown",
      "source": [
        "## Setup\n"
      ],
      "metadata": {
        "id": "p49Im17Sdun2"
      }
    },
    {
      "cell_type": "markdown",
      "source": [
        "In this case we'll rely only on numpy."
      ],
      "metadata": {
        "id": "lQoDJ6UqEsmb"
      }
    },
    {
      "cell_type": "code",
      "source": [
        "import numpy as np"
      ],
      "metadata": {
        "id": "McxRUc67JpqJ"
      },
      "execution_count": 1,
      "outputs": []
    },
    {
      "cell_type": "markdown",
      "source": [
        "# Task 1 [3 marks]\n",
        "Here we will implement the motion aspect of the vacuum cleaning robot as described in the notes.\n",
        "\n",
        "Fill in the entries of the conditional probability matrices corresponding to moving left, up and down in the code below. The matrix for moving right has already been completed."
      ],
      "metadata": {
        "id": "1lXH6YKGHPsP"
      }
    },
    {
      "cell_type": "code",
      "source": [
        "M_right = np.array([[0.2, 0.8, 0.0, 0.0, 0.0],\n",
        "                    [0.0, 1.0, 0.0, 0.0, 0.0],\n",
        "                    [0.0, 0.0, 0.2, 0.8, 0.0],\n",
        "                    [0.0, 0.0, 0.0, 0.2, 0.8],\n",
        "                    [0.0, 0.0, 0.0, 0.0, 1.0]])\n",
        "\n",
        "M_left = # STUDENTS: FILL IN MATRIX FOR MOVING LEFT\n",
        "\n",
        "M_up = # STUDENTS: FILL IN MATRIX FOR MOVING UP\n",
        "\n",
        "M_down = # STUDENTS: FILL IN MATRIX FOR MOVING DOWN\n"
      ],
      "metadata": {
        "id": "4lEGCOITHOQ2"
      },
      "execution_count": null,
      "outputs": []
    },
    {
      "cell_type": "markdown",
      "source": [
        "We now verify the slide labelled \"Example: Move Right\" by applying the equation.\n",
        "\n",
        "$$b_1 = b_0 M_{right} = [0\\, 0\\, 1\\, 0\\, 0]\\, M_{right}$$"
      ],
      "metadata": {
        "id": "yS_IvqElIP3o"
      }
    },
    {
      "cell_type": "code",
      "source": [
        "b0 = np.array([0, 0, 1, 0, 0])\n",
        "print(f\"b0: {b0}\")\n",
        "b1 = b0.dot(M_right)\n",
        "print(f\"b1: {b1}\")\n",
        "b2 = b1.dot(M_right)\n",
        "print(f\"b2: {b2}\")"
      ],
      "metadata": {
        "id": "IPdDMitKI7WH"
      },
      "execution_count": null,
      "outputs": []
    },
    {
      "cell_type": "markdown",
      "source": [
        "Partially validate the other movement matrices by moving right, up, right, down. We should see that the dining room (index 4) is the most likely location."
      ],
      "metadata": {
        "id": "mmeqeNrTlmmL"
      }
    },
    {
      "cell_type": "code",
      "source": [
        "b4 = b0 @ M_right @ M_up @M_right @ M_down\n",
        "print(f\"b4: {b4}\")"
      ],
      "metadata": {
        "id": "VLJoOZY5llIP"
      },
      "execution_count": null,
      "outputs": []
    },
    {
      "cell_type": "markdown",
      "source": [
        "We could also have pre-multiplied these matrices first and gotten the same result."
      ],
      "metadata": {
        "id": "lSKSlP6RmX_X"
      }
    },
    {
      "cell_type": "markdown",
      "source": [
        "Another partial validation: we start from the kitchen, then go left, down, then left again. The peak of probability should now be in the office (index 2)."
      ],
      "metadata": {
        "id": "3CHk2AoAjzlo"
      }
    },
    {
      "cell_type": "code",
      "source": [
        "b_another = np.array([0, 1, 0, 0, 0]) @ M_left @ M_down @ M_left\n",
        "print(f\"b_another: {b_another}\")"
      ],
      "metadata": {
        "id": "1I3U19kJlkp_"
      },
      "execution_count": null,
      "outputs": []
    },
    {
      "cell_type": "markdown",
      "source": [
        "# Task 2 [1 mark]\n",
        "\n",
        "Fill in the matrix below which will move the robot from any state back to the office."
      ],
      "metadata": {
        "id": "BZinmSBNjnne"
      }
    },
    {
      "cell_type": "code",
      "source": [
        "M_reset = # STUDENTS: FILL IN MATRIX TO RESET STATE TO OFFICE"
      ],
      "metadata": {
        "id": "2VC0fWQYlTs7"
      },
      "execution_count": null,
      "outputs": []
    },
    {
      "cell_type": "markdown",
      "source": [
        "Now we test that the matrix above returns the state to the office from all start states."
      ],
      "metadata": {
        "id": "S9SWy_h4l2-V"
      }
    },
    {
      "cell_type": "code",
      "source": [
        "from_living = np.array([1, 0, 0, 0, 0]) @ M_reset\n",
        "print(f\"from_living: {from_living}\")\n",
        "\n",
        "from_kitchen = np.array([0, 1, 0, 0, 0]) @ M_reset\n",
        "print(f\"from_kitchen: {from_kitchen}\")\n",
        "\n",
        "from_office = np.array([0, 0, 1, 0, 0]) @ M_reset\n",
        "print(f\"from_office: {from_office}\")\n",
        "\n",
        "from_hallway = np.array([0, 0, 0, 1, 0]) @ M_reset\n",
        "print(f\"from_hallway: {from_hallway}\")\n",
        "\n",
        "from_dining = np.array([0, 0, 0, 0, 1]) @ M_reset\n",
        "print(f\"from_dining: {from_dining}\")"
      ],
      "metadata": {
        "id": "uiH0zBvVl0C-"
      },
      "execution_count": null,
      "outputs": []
    }
  ]
}